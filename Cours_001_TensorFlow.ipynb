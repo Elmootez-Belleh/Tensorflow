{
 "cells": [
  {
   "cell_type": "markdown",
   "id": "7ff7e2d7",
   "metadata": {},
   "source": [
    "<br><br>\n",
    "<br><br><br><br><br>\n",
    "<img src=\"images/TensorFlow.png\" alt=\"TensorFlow\" style=\"float: center; width : 50%; margin-right:2px\">\n",
    "<h1 style=\"color: #444c64;font-family: Arial;font-size: 3rem; float: right;\"><b>SALHI Elmootez</b></h1>\n",
    "<br><br><br><br><br><br>\n",
    "<h2 style=\"color: #444c64; font-size: 4rem; font-family:Georgia;\"> Cours 1 : Les notions de bases</h2>\n",
    "<br><br>"
   ]
  },
  {
   "cell_type": "markdown",
   "id": "96f31d76",
   "metadata": {},
   "source": [
    "<h2 style=\"font-family:Georgia;\">1. C'est quoi TensorFlow ?</h2>"
   ]
  },
  {
   "cell_type": "markdown",
   "id": "1fc06cae",
   "metadata": {},
   "source": [
    "<p style=\"font-family:Georgia;\">TensorFlow est une bibliothèque de machine learning open-source de bout en bout pour prétraiter les données, modéliser les données et servir les modèles (les mettre entre les mains des autres).</p>"
   ]
  },
  {
   "cell_type": "code",
   "execution_count": 4,
   "id": "26559389",
   "metadata": {},
   "outputs": [],
   "source": [
    "import tensorflow as tf\n",
    "import numpy as np"
   ]
  },
  {
   "cell_type": "code",
   "execution_count": 2,
   "id": "81e29db5",
   "metadata": {},
   "outputs": [
    {
     "name": "stdout",
     "output_type": "stream",
     "text": [
      "2.10.0\n"
     ]
    }
   ],
   "source": [
    "print(tf.__version__)"
   ]
  },
  {
   "cell_type": "markdown",
   "id": "afc831b2",
   "metadata": {},
   "source": [
    "<h2 style=\"font-family:Georgia;\">2. Introduction sur les Tenseurs</h2><br><br><br>\n",
    "<img src=\"images/tensorVSmatrix.png\" alt=\"Tensor\" style=\"float: center; width : 70%\"><br><br>"
   ]
  },
  {
   "cell_type": "markdown",
   "id": "872f8921",
   "metadata": {},
   "source": [
    "<p style=\"font-family:Georgia; text-align:justify\">Un tenseur en deep learning est un objet de base utilisé dans les frameworks de deep learning comme TensorFlow. Ils sont utilisés pour stocker presque tout dans l’apprentissage en profondeur: données d’entrée, poids, biais, prédictions, etc. Un tenseur est un tableau multidimensionnel qui stocke un type spécifique de valeur. Par exemple, une image en niveaux de gris est un tenseur 2D, une image couleur un tenseur 3D. La plus grande différence entre un tableau numpy et un tenseur est qu’un tenseur peut fonctionner sur CPU ou GPU. En apprentissage profond, nous avons besoin de performances pour calculer de nombreuses multiplications matricielles de manière hautement parallèle</p><br>"
   ]
  },
  {
   "cell_type": "markdown",
   "id": "9b37655c",
   "metadata": {},
   "source": [
    "<img src=\"images/tensors.png\" alt=\"Tensor\" style=\"float: center; width : 60%\">"
   ]
  },
  {
   "cell_type": "markdown",
   "id": "1b21d880",
   "metadata": {},
   "source": [
    "<h2 style=\"font-family:Georgia;\">3. Creation des Tenseurs avec <code>tf.constant()</code></h2><br>"
   ]
  },
  {
   "cell_type": "markdown",
   "id": "3ff41006",
   "metadata": {},
   "source": [
    "<h3 style=\"font-family:Georgia;\">3.1 Scalaire</h3><br>"
   ]
  },
  {
   "cell_type": "code",
   "execution_count": 5,
   "id": "d3e963f4",
   "metadata": {},
   "outputs": [
    {
     "data": {
      "text/plain": [
       "<tf.Tensor: shape=(), dtype=int32, numpy=7>"
      ]
     },
     "execution_count": 5,
     "metadata": {},
     "output_type": "execute_result"
    }
   ],
   "source": [
    "# Creer un scalaire\n",
    "scalaire = tf.constant(7)\n",
    "scalaire"
   ]
  },
  {
   "cell_type": "code",
   "execution_count": 6,
   "id": "b076fe46",
   "metadata": {},
   "outputs": [
    {
     "data": {
      "text/plain": [
       "0"
      ]
     },
     "execution_count": 6,
     "metadata": {},
     "output_type": "execute_result"
    }
   ],
   "source": [
    "# Verifier les dimensions du scalaire\n",
    "scalaire.ndim"
   ]
  },
  {
   "cell_type": "markdown",
   "id": "e9c8f880",
   "metadata": {},
   "source": [
    "<h3 style=\"font-family:Georgia;\">3.2 Vecteur</h3><br>"
   ]
  },
  {
   "cell_type": "code",
   "execution_count": 9,
   "id": "bde7612f",
   "metadata": {},
   "outputs": [
    {
     "data": {
      "text/plain": [
       "<tf.Tensor: shape=(2,), dtype=int32, numpy=array([10,  8])>"
      ]
     },
     "execution_count": 9,
     "metadata": {},
     "output_type": "execute_result"
    }
   ],
   "source": [
    "vecteur = tf.constant([10,8])\n",
    "vecteur"
   ]
  },
  {
   "cell_type": "code",
   "execution_count": 10,
   "id": "02fa03ad",
   "metadata": {},
   "outputs": [
    {
     "data": {
      "text/plain": [
       "1"
      ]
     },
     "execution_count": 10,
     "metadata": {},
     "output_type": "execute_result"
    }
   ],
   "source": [
    "vecteur.ndim"
   ]
  },
  {
   "cell_type": "markdown",
   "id": "2781ff35",
   "metadata": {},
   "source": [
    "<h3 style=\"font-family:Georgia;\">3.3 Matrice</h3><br>"
   ]
  },
  {
   "cell_type": "code",
   "execution_count": 12,
   "id": "24877a51",
   "metadata": {},
   "outputs": [
    {
     "data": {
      "text/plain": [
       "<tf.Tensor: shape=(2, 2), dtype=int32, numpy=\n",
       "array([[1, 2],\n",
       "       [5, 8]])>"
      ]
     },
     "execution_count": 12,
     "metadata": {},
     "output_type": "execute_result"
    }
   ],
   "source": [
    "matrice = tf.constant([[1,2],\n",
    "                       [5,8]])\n",
    "matrice"
   ]
  },
  {
   "cell_type": "code",
   "execution_count": 13,
   "id": "3bf8fac3",
   "metadata": {},
   "outputs": [
    {
     "data": {
      "text/plain": [
       "2"
      ]
     },
     "execution_count": 13,
     "metadata": {},
     "output_type": "execute_result"
    }
   ],
   "source": [
    "matrice.ndim"
   ]
  },
  {
   "cell_type": "markdown",
   "id": "7f0c9e45",
   "metadata": {},
   "source": [
    "<h3 style=\"font-family:Georgia;\">! Data type</h3><br>\n",
    "<p style=\"font-family:Georgia; text-align:justify\">Par défaut, TensorFlow crée des tenseurs avec un type de données <code>int32</code> ou <code>float32</code>. Ceci est connu sous le nom de précision 32 bits (plus le nombre est élevé, plus le nombre est précis, plus il prend de l’espace sur l'ordinateur).</p><br>\n",
    "<p style=\"font-family:Georgia; text-align:justify\"> La précision d’une quantité numérique est une mesure du détail dans lequel la quantité est exprimée. Cela se mesure généralement en bits, mais parfois en chiffres décimaux. Cela est lié à la précision en mathématiques, qui décrit le nombre de chiffres utilisés pour exprimer une valeur.</p>\n",
    "<p style=\"font-family:Georgia; text-align:justify\"> Certains des formats de précision standardisés sont :</p>\n",
    "<ul>\n",
    "    <li><a href=\"https://en.wikipedia.org/wiki/Half-precision_floating-point_format\">Format de virgule flottante à demi-précision</a></li>\n",
    "    <li><a href=\"https://en.wikipedia.org/wiki/Single-precision_floating-point_format\">Format de virgule flottante à simple précision</a></li>\n",
    "    <li><a href=\"https://en.wikipedia.org/wiki/Precision_(computer_science)\">etc ...</a></li>\n",
    "</ul>\n",
    "\n",
    "<p style=\"font-family:Georgia; text-align:justify\">Les formats à <b>simple et double précision</b> sont les plus largement utilisés et pris en charge sur presque toutes les plateformes. L’utilisation du format à demi-précision a augmenté, en particulier dans le domaine de l’apprentissage automatique, car de nombreux algorithmes d’apprentissage automatique sont intrinsèquement tolérants aux erreurs.</p>"
   ]
  },
  {
   "cell_type": "code",
   "execution_count": 17,
   "id": "a3e4efb9",
   "metadata": {},
   "outputs": [
    {
     "data": {
      "text/plain": [
       "<tf.Tensor: shape=(3, 2), dtype=float16, numpy=\n",
       "array([[ 5.,  6.],\n",
       "       [ 9., 10.],\n",
       "       [15., 18.]], dtype=float16)>"
      ]
     },
     "execution_count": 17,
     "metadata": {},
     "output_type": "execute_result"
    }
   ],
   "source": [
    "# Modification du Data Type : \n",
    "\n",
    "nvllMatrice = tf.constant([[5,6],\n",
    "                           [9,10],\n",
    "                          [15,18]],dtype=tf.float16)\n",
    "nvllMatrice"
   ]
  },
  {
   "cell_type": "markdown",
   "id": "b5fd3a96",
   "metadata": {},
   "source": [
    "<p style=\"font-family:Georgia; text-align:justify\">Malgre que la matrice contient plus de nombres elle a toujours la meme dimension !</p>"
   ]
  },
  {
   "cell_type": "code",
   "execution_count": 18,
   "id": "635428dd",
   "metadata": {},
   "outputs": [
    {
     "data": {
      "text/plain": [
       "2"
      ]
     },
     "execution_count": 18,
     "metadata": {},
     "output_type": "execute_result"
    }
   ],
   "source": [
    "nvllMatrice.ndim"
   ]
  },
  {
   "cell_type": "markdown",
   "id": "698ac20a",
   "metadata": {},
   "source": [
    "<h3 style=\"font-family:Georgia;\">3.4 Tenseur</h3><br>"
   ]
  },
  {
   "cell_type": "code",
   "execution_count": 22,
   "id": "92676db8",
   "metadata": {},
   "outputs": [
    {
     "data": {
      "text/plain": [
       "<tf.Tensor: shape=(3, 2, 2), dtype=int32, numpy=\n",
       "array([[[ 1,  2],\n",
       "        [ 3,  4]],\n",
       "\n",
       "       [[ 5,  6],\n",
       "        [ 7,  8]],\n",
       "\n",
       "       [[ 9, 10],\n",
       "        [11, 12]]])>"
      ]
     },
     "execution_count": 22,
     "metadata": {},
     "output_type": "execute_result"
    }
   ],
   "source": [
    "# Exemple 1\n",
    "tenseur = tf.constant([[[1,2],\n",
    "                       [3,4]],\n",
    "                     [[5,6],\n",
    "                      [7,8]],\n",
    "                     [[9,10],\n",
    "                      [11,12]]])\n",
    "tenseur"
   ]
  },
  {
   "cell_type": "code",
   "execution_count": 21,
   "id": "cd2c49e4",
   "metadata": {},
   "outputs": [
    {
     "data": {
      "text/plain": [
       "3"
      ]
     },
     "execution_count": 21,
     "metadata": {},
     "output_type": "execute_result"
    }
   ],
   "source": [
    "tenseur.ndim"
   ]
  },
  {
   "cell_type": "code",
   "execution_count": 23,
   "id": "79177a13",
   "metadata": {},
   "outputs": [
    {
     "data": {
      "text/plain": [
       "<tf.Tensor: shape=(3, 2, 3), dtype=int32, numpy=\n",
       "array([[[   1,    2,   12],\n",
       "        [   3,    4,   34]],\n",
       "\n",
       "       [[   5,    6,   56],\n",
       "        [   7,    8,   78]],\n",
       "\n",
       "       [[   9,   10,  910],\n",
       "        [  11,   12, 1112]]])>"
      ]
     },
     "execution_count": 23,
     "metadata": {},
     "output_type": "execute_result"
    }
   ],
   "source": [
    "# Exemple 2\n",
    "tenseur = tf.constant([[[1,2,12],\n",
    "                       [3,4,34]],\n",
    "                     [[5,6,56],\n",
    "                      [7,8,78]],\n",
    "                     [[9,10,910],\n",
    "                      [11,12,1112]]])\n",
    "tenseur"
   ]
  },
  {
   "cell_type": "code",
   "execution_count": 24,
   "id": "4056938c",
   "metadata": {},
   "outputs": [
    {
     "data": {
      "text/plain": [
       "3"
      ]
     },
     "execution_count": 24,
     "metadata": {},
     "output_type": "execute_result"
    }
   ],
   "source": [
    "tenseur.ndim"
   ]
  },
  {
   "cell_type": "markdown",
   "id": "46e1850b",
   "metadata": {},
   "source": [
    "<p style=\"font-family:Georgia; text-align:justify\">Toutes les variables ci-dessus que nous avons créées sont en fait des <b>Tenseurs</b>. Mais on peut également les appeler par leurs différents noms (ceux que nous leur avons donnés):</p>\n",
    "\n",
    "<ul>\n",
    "    <li><b>Scalaire :</b> un seul nombre</li>\n",
    "    <li><b>Vecteur :</b> un nombre avec une direction</li>\n",
    "    <li><b>Matrice :</b> un tableau bidimensionnel</li>\n",
    "    <li><b>Tenseur :</b> un tableau de nombres à n dimensions (où n peut être n’importe quel nombre)</li>\n",
    "</ul>"
   ]
  },
  {
   "cell_type": "markdown",
   "id": "1828db7b",
   "metadata": {},
   "source": [
    "<h2 style=\"font-family:Georgia;\">4. Creation des Tenseurs avec <code>tf.Variable()</code></h2><br>"
   ]
  },
  {
   "cell_type": "markdown",
   "id": "5bfafafa",
   "metadata": {},
   "source": [
    "<p style=\"font-family:Georgia; text-align:justify\">La différence entre <code>tf.Variable()</code> et <code>tf.constant()</code> est que les tenseurs créés avec <code>tf.constant()</code> sont immuables (ne peuvent pas être modifiés, ne peuvent être utilisés que pour créer un nouveau tenseur), alors que les tenseurs créés avec <code>tf.Variable()</code> sont modifiables (peuvent être modifiés).</p>"
   ]
  },
  {
   "cell_type": "code",
   "execution_count": 27,
   "id": "b08f2c5e",
   "metadata": {},
   "outputs": [
    {
     "data": {
      "text/plain": [
       "(<tf.Variable 'Variable:0' shape=(2,) dtype=int32, numpy=array([15, 20])>,\n",
       " <tf.Tensor: shape=(2,), dtype=int32, numpy=array([30, 35])>)"
      ]
     },
     "execution_count": 27,
     "metadata": {},
     "output_type": "execute_result"
    }
   ],
   "source": [
    "tenseur_variable = tf.Variable([15,20])\n",
    "tenseur_constant = tf.constant([30,35])\n",
    "\n",
    "tenseur_variable, tenseur_constant"
   ]
  },
  {
   "cell_type": "code",
   "execution_count": 28,
   "id": "56229fc0",
   "metadata": {},
   "outputs": [
    {
     "ename": "TypeError",
     "evalue": "'ResourceVariable' object does not support item assignment",
     "output_type": "error",
     "traceback": [
      "\u001b[1;31m---------------------------------------------------------------------------\u001b[0m",
      "\u001b[1;31mTypeError\u001b[0m                                 Traceback (most recent call last)",
      "Cell \u001b[1;32mIn[28], line 2\u001b[0m\n\u001b[0;32m      1\u001b[0m \u001b[38;5;66;03m# Essayons de changer une valeur du tenseur_variable\u001b[39;00m\n\u001b[1;32m----> 2\u001b[0m tenseur_variable[\u001b[38;5;241m0\u001b[39m] \u001b[38;5;241m=\u001b[39m \u001b[38;5;241m1\u001b[39m\n",
      "\u001b[1;31mTypeError\u001b[0m: 'ResourceVariable' object does not support item assignment"
     ]
    }
   ],
   "source": [
    "# Essayons de changer une valeur du tenseur_variable\n",
    "tenseur_variable[0] = 1"
   ]
  },
  {
   "cell_type": "code",
   "execution_count": 32,
   "id": "69409856",
   "metadata": {},
   "outputs": [
    {
     "data": {
      "text/plain": [
       "<tf.Variable 'Variable:0' shape=(2,) dtype=int32, numpy=array([ 1, 20])>"
      ]
     },
     "execution_count": 32,
     "metadata": {},
     "output_type": "execute_result"
    }
   ],
   "source": [
    "# Pour assigner une nouvelle valeur il faut utiliser la fonction \"assign\" : \n",
    "tenseur_variable[0].assign(1)\n",
    "tenseur_variable"
   ]
  },
  {
   "cell_type": "code",
   "execution_count": 33,
   "id": "85244c2e",
   "metadata": {},
   "outputs": [
    {
     "ename": "AttributeError",
     "evalue": "'tensorflow.python.framework.ops.EagerTensor' object has no attribute 'assign'",
     "output_type": "error",
     "traceback": [
      "\u001b[1;31m---------------------------------------------------------------------------\u001b[0m",
      "\u001b[1;31mAttributeError\u001b[0m                            Traceback (most recent call last)",
      "Cell \u001b[1;32mIn[33], line 2\u001b[0m\n\u001b[0;32m      1\u001b[0m \u001b[38;5;66;03m# Essayons de modifier le tenseur_constant : \u001b[39;00m\n\u001b[1;32m----> 2\u001b[0m \u001b[43mtenseur_constant\u001b[49m\u001b[43m[\u001b[49m\u001b[38;5;241;43m0\u001b[39;49m\u001b[43m]\u001b[49m\u001b[38;5;241;43m.\u001b[39;49m\u001b[43massign\u001b[49m(\u001b[38;5;241m2\u001b[39m)\n",
      "File \u001b[1;32m~\\anaconda3\\envs\\tf\\lib\\site-packages\\tensorflow\\python\\framework\\ops.py:446\u001b[0m, in \u001b[0;36mTensor.__getattr__\u001b[1;34m(self, name)\u001b[0m\n\u001b[0;32m    437\u001b[0m \u001b[38;5;28;01mif\u001b[39;00m name \u001b[38;5;129;01min\u001b[39;00m {\u001b[38;5;124m\"\u001b[39m\u001b[38;5;124mT\u001b[39m\u001b[38;5;124m\"\u001b[39m, \u001b[38;5;124m\"\u001b[39m\u001b[38;5;124mastype\u001b[39m\u001b[38;5;124m\"\u001b[39m, \u001b[38;5;124m\"\u001b[39m\u001b[38;5;124mravel\u001b[39m\u001b[38;5;124m\"\u001b[39m, \u001b[38;5;124m\"\u001b[39m\u001b[38;5;124mtranspose\u001b[39m\u001b[38;5;124m\"\u001b[39m, \u001b[38;5;124m\"\u001b[39m\u001b[38;5;124mreshape\u001b[39m\u001b[38;5;124m\"\u001b[39m, \u001b[38;5;124m\"\u001b[39m\u001b[38;5;124mclip\u001b[39m\u001b[38;5;124m\"\u001b[39m, \u001b[38;5;124m\"\u001b[39m\u001b[38;5;124msize\u001b[39m\u001b[38;5;124m\"\u001b[39m,\n\u001b[0;32m    438\u001b[0m             \u001b[38;5;124m\"\u001b[39m\u001b[38;5;124mtolist\u001b[39m\u001b[38;5;124m\"\u001b[39m, \u001b[38;5;124m\"\u001b[39m\u001b[38;5;124mdata\u001b[39m\u001b[38;5;124m\"\u001b[39m}:\n\u001b[0;32m    439\u001b[0m   \u001b[38;5;66;03m# TODO(wangpeng): Export the enable_numpy_behavior knob\u001b[39;00m\n\u001b[0;32m    440\u001b[0m   \u001b[38;5;28;01mraise\u001b[39;00m \u001b[38;5;167;01mAttributeError\u001b[39;00m(\n\u001b[0;32m    441\u001b[0m       \u001b[38;5;124mf\u001b[39m\u001b[38;5;124m\"\u001b[39m\u001b[38;5;132;01m{\u001b[39;00m\u001b[38;5;28mtype\u001b[39m(\u001b[38;5;28mself\u001b[39m)\u001b[38;5;241m.\u001b[39m\u001b[38;5;18m__name__\u001b[39m\u001b[38;5;132;01m}\u001b[39;00m\u001b[38;5;124m object has no attribute \u001b[39m\u001b[38;5;124m'\u001b[39m\u001b[38;5;132;01m{\u001b[39;00mname\u001b[38;5;132;01m}\u001b[39;00m\u001b[38;5;124m'\u001b[39m\u001b[38;5;124m. \u001b[39m\u001b[38;5;124m\"\u001b[39m \u001b[38;5;241m+\u001b[39m \u001b[38;5;124m\"\"\"\u001b[39m\n\u001b[0;32m    442\u001b[0m \u001b[38;5;124m    If you are looking for numpy-related methods, please run the following:\u001b[39m\n\u001b[0;32m    443\u001b[0m \u001b[38;5;124m    from tensorflow.python.ops.numpy_ops import np_config\u001b[39m\n\u001b[0;32m    444\u001b[0m \u001b[38;5;124m    np_config.enable_numpy_behavior()\u001b[39m\n\u001b[0;32m    445\u001b[0m \u001b[38;5;124m  \u001b[39m\u001b[38;5;124m\"\"\"\u001b[39m)\n\u001b[1;32m--> 446\u001b[0m \u001b[38;5;28;43mself\u001b[39;49m\u001b[38;5;241;43m.\u001b[39;49m\u001b[38;5;21;43m__getattribute__\u001b[39;49m\u001b[43m(\u001b[49m\u001b[43mname\u001b[49m\u001b[43m)\u001b[49m\n",
      "\u001b[1;31mAttributeError\u001b[0m: 'tensorflow.python.framework.ops.EagerTensor' object has no attribute 'assign'"
     ]
    }
   ],
   "source": [
    "# Essayons de modifier le tenseur_constant : \n",
    "tenseur_constant[0].assign(2)"
   ]
  },
  {
   "cell_type": "markdown",
   "id": "9d93ae41",
   "metadata": {},
   "source": [
    "<h2 style=\"font-family:Georgia;\">5. Creation des Tenseurs aleatoires (random) <code>tf.random.Generator</code> class</h2><br>\n",
    "<p style=\"font-family:Georgia;font-size:1.5rem; text-align:justify\"><b>Pourquoi nous utilisons des Tenseurs aleatoire ?</b> </p>"
   ]
  },
  {
   "cell_type": "markdown",
   "id": "ad95f9d2",
   "metadata": {},
   "source": [
    "<p style=\"font-family:Georgia; text-align:justify\">Les tenseurs aléatoires, sont de taille arbitraire contenant des nombres aléatoires, sont utilisés par les réseaux de neurones pour initialiser leurs poids (modèles) lorsqu’ils tentent d’apprendre à partir des données.</p>"
   ]
  },
  {
   "cell_type": "code",
   "execution_count": 10,
   "id": "f4af9e3a",
   "metadata": {},
   "outputs": [
    {
     "data": {
      "text/plain": [
       "<tf.Tensor: shape=(3, 2), dtype=float32, numpy=\n",
       "array([[ 0.1175475 ,  0.03493892],\n",
       "       [-1.5700307 ,  0.4457582 ],\n",
       "       [ 0.10944034, -0.8035768 ]], dtype=float32)>"
      ]
     },
     "execution_count": 10,
     "metadata": {},
     "output_type": "execute_result"
    }
   ],
   "source": [
    "# Creyons un tenseur aleatoire\n",
    "\n",
    "random_1 = tf.random.Generator.from_seed(23)\n",
    "random_1 = random_1.normal(shape=(3,2))\n",
    "random_1"
   ]
  },
  {
   "cell_type": "code",
   "execution_count": 13,
   "id": "e396fe6d",
   "metadata": {},
   "outputs": [
    {
     "data": {
      "text/plain": [
       "<tf.Tensor: shape=(3, 2), dtype=float32, numpy=\n",
       "array([[ 0.1175475 ,  0.03493892],\n",
       "       [-1.5700307 ,  0.4457582 ],\n",
       "       [ 0.10944034, -0.8035768 ]], dtype=float32)>"
      ]
     },
     "execution_count": 13,
     "metadata": {},
     "output_type": "execute_result"
    }
   ],
   "source": [
    "# Creyons un deuxieme tenseur\n",
    "\n",
    "random_2 = tf.random.Generator.from_seed(23)\n",
    "random_2 = random_2.normal(shape=(3,2))\n",
    "random_2"
   ]
  },
  {
   "cell_type": "markdown",
   "id": "289ccd7d",
   "metadata": {},
   "source": [
    "<p style=\"font-family:Georgia;font-size:1.5rem; text-align:justify\"><b>Mais Pourquoi on obtient deux tenseurs identiques ?? </b> </p>\n",
    "<p style=\"font-family:Georgia;font-size:1.5rem; text-align:justify\">Les tenseurs aléatoires que nous avons créés sont en fait des nombres pseudo-aléatoires (ils apparaissent comme aléatoires, mais ne le sont pas vraiment). Si nous définissons un seed, nous obtiendrons les mêmes nombres aléatoires. </p>\n",
    "<br>\n",
    "<img src=\"images/dumber.gif\" alt=\"Tensor\" style=\"float: left; width : 50%\"><br><br>"
   ]
  },
  {
   "cell_type": "markdown",
   "id": "491a7fab",
   "metadata": {},
   "source": [
    "<p style=\"font-family:Georgia;font-size:1.5rem; text-align:justify\">Si on souhaite avoir des tenseurs differents, il suffit de changer la valeur de seed</p>"
   ]
  },
  {
   "cell_type": "code",
   "execution_count": 15,
   "id": "18d64a52",
   "metadata": {},
   "outputs": [
    {
     "data": {
      "text/plain": [
       "(<tf.Tensor: shape=(3, 2), dtype=float32, numpy=\n",
       " array([[ 0.1175475 ,  0.03493892],\n",
       "        [-1.5700307 ,  0.4457582 ],\n",
       "        [ 0.10944034, -0.8035768 ]], dtype=float32)>,\n",
       " <tf.Tensor: shape=(3, 2), dtype=float32, numpy=\n",
       " array([[-0.9934515 ,  1.4369737 ],\n",
       "        [ 1.1249138 ,  0.77698714],\n",
       "        [-0.90112925, -0.0175216 ]], dtype=float32)>)"
      ]
     },
     "execution_count": 15,
     "metadata": {},
     "output_type": "execute_result"
    }
   ],
   "source": [
    "# Creyons deux tenseurs differents :\n",
    "\n",
    "random_3 = tf.random.Generator.from_seed(23)\n",
    "random_3 = random_3.normal(shape=(3,2))\n",
    "\n",
    "random_4 = tf.random.Generator.from_seed(99)\n",
    "random_4 = random_4.normal(shape=(3,2))\n",
    "\n",
    "random_3, random_4"
   ]
  },
  {
   "cell_type": "code",
   "execution_count": 16,
   "id": "32688f3f",
   "metadata": {},
   "outputs": [
    {
     "data": {
      "text/plain": [
       "<tf.Tensor: shape=(3, 2), dtype=bool, numpy=\n",
       "array([[False, False],\n",
       "       [False, False],\n",
       "       [False, False]])>"
      ]
     },
     "execution_count": 16,
     "metadata": {},
     "output_type": "execute_result"
    }
   ],
   "source": [
    "random_3 == random_4"
   ]
  },
  {
   "cell_type": "markdown",
   "id": "1c5c3911",
   "metadata": {},
   "source": [
    "<h2 style=\"font-family:Georgia;\">6. Melanger l'ordre d'un Tenseur \"Shuffling\"</h2><br>\n",
    "<p style=\"font-family:Georgia;font-size:1.5rem; text-align:justify\">L'ordre pourrait affecter la façon dont un réseau de neurones apprend (il pourrait y avoir un overfit en apprenant l’ordre des données), à la place, il pourrait être une bonne idée de melanger les données.</p>"
   ]
  },
  {
   "cell_type": "code",
   "execution_count": 27,
   "id": "da392c13",
   "metadata": {},
   "outputs": [
    {
     "data": {
      "text/plain": [
       "<tf.Tensor: shape=(4, 4), dtype=int64, numpy=\n",
       "array([[3, 1, 3, 8],\n",
       "       [5, 6, 9, 4],\n",
       "       [5, 4, 6, 4],\n",
       "       [1, 3, 1, 6]], dtype=int64)>"
      ]
     },
     "execution_count": 27,
     "metadata": {},
     "output_type": "execute_result"
    }
   ],
   "source": [
    "tenseur = tf.random.uniform(shape=[4,4], minval=1, maxval=10, dtype=tf.int64)\n",
    "tenseur"
   ]
  },
  {
   "cell_type": "code",
   "execution_count": 29,
   "id": "6c0228bd",
   "metadata": {},
   "outputs": [
    {
     "data": {
      "text/plain": [
       "<tf.Tensor: shape=(4, 4), dtype=int64, numpy=\n",
       "array([[5, 4, 6, 4],\n",
       "       [1, 3, 1, 6],\n",
       "       [3, 1, 3, 8],\n",
       "       [5, 6, 9, 4]], dtype=int64)>"
      ]
     },
     "execution_count": 29,
     "metadata": {},
     "output_type": "execute_result"
    }
   ],
   "source": [
    "tf.random.shuffle(tenseur) # modification de l'ordre des lignes "
   ]
  },
  {
   "cell_type": "markdown",
   "id": "96ed5bfa",
   "metadata": {},
   "source": [
    "<h2 style=\"font-family:Georgia;\">7. Autres facons pour creer des Tenseurs <code>tf.zeros</code> et <code>tf.ones</code></h2>"
   ]
  },
  {
   "cell_type": "code",
   "execution_count": 4,
   "id": "fc0c2a97",
   "metadata": {},
   "outputs": [
    {
     "data": {
      "text/plain": [
       "<tf.Tensor: shape=(3, 3), dtype=float32, numpy=\n",
       "array([[1., 1., 1.],\n",
       "       [1., 1., 1.],\n",
       "       [1., 1., 1.]], dtype=float32)>"
      ]
     },
     "execution_count": 4,
     "metadata": {},
     "output_type": "execute_result"
    }
   ],
   "source": [
    "tf.ones(shape=(3, 3))"
   ]
  },
  {
   "cell_type": "code",
   "execution_count": 6,
   "id": "f4df1bcd",
   "metadata": {},
   "outputs": [
    {
     "data": {
      "text/plain": [
       "<tf.Tensor: shape=(3, 3), dtype=float32, numpy=\n",
       "array([[0., 0., 0.],\n",
       "       [0., 0., 0.],\n",
       "       [0., 0., 0.]], dtype=float32)>"
      ]
     },
     "execution_count": 6,
     "metadata": {},
     "output_type": "execute_result"
    }
   ],
   "source": [
    "tf.zeros(shape=(3, 3))"
   ]
  },
  {
   "cell_type": "markdown",
   "id": "e861297c",
   "metadata": {},
   "source": [
    "<h2 style=\"font-family:Georgia;\">8. Manipulation des tenseurs</h2>"
   ]
  },
  {
   "cell_type": "markdown",
   "id": "6d165b40",
   "metadata": {},
   "source": [
    "<h3 style=\"font-family:Georgia;\">8.1 Addition :</h3><br>"
   ]
  },
  {
   "cell_type": "code",
   "execution_count": 18,
   "id": "b1e24c8f",
   "metadata": {},
   "outputs": [
    {
     "data": {
      "text/plain": [
       "<tf.Tensor: shape=(2, 2), dtype=int32, numpy=\n",
       "array([[110, 115],\n",
       "       [114, 110]])>"
      ]
     },
     "execution_count": 18,
     "metadata": {},
     "output_type": "execute_result"
    }
   ],
   "source": [
    "tenseur = tf.constant([[10,15],\n",
    "                       [14,10]])\n",
    "tenseur + 100"
   ]
  },
  {
   "cell_type": "code",
   "execution_count": 19,
   "id": "47c5e800",
   "metadata": {},
   "outputs": [
    {
     "data": {
      "text/plain": [
       "<tf.Tensor: shape=(2, 2), dtype=int32, numpy=\n",
       "array([[10, 15],\n",
       "       [14, 10]])>"
      ]
     },
     "execution_count": 19,
     "metadata": {},
     "output_type": "execute_result"
    }
   ],
   "source": [
    "# Notre tenseur de base :\n",
    "tenseur"
   ]
  },
  {
   "cell_type": "markdown",
   "id": "aa5a95c0",
   "metadata": {},
   "source": [
    "<h3 style=\"font-family:Georgia;\">8.2 Soustraction :</h3><br>"
   ]
  },
  {
   "cell_type": "code",
   "execution_count": 21,
   "id": "07250c91",
   "metadata": {},
   "outputs": [
    {
     "data": {
      "text/plain": [
       "<tf.Tensor: shape=(2, 2), dtype=int32, numpy=\n",
       "array([[0, 5],\n",
       "       [4, 0]])>"
      ]
     },
     "execution_count": 21,
     "metadata": {},
     "output_type": "execute_result"
    }
   ],
   "source": [
    "tenseur - 10"
   ]
  },
  {
   "cell_type": "markdown",
   "id": "c9b388a6",
   "metadata": {},
   "source": [
    "<h3 style=\"font-family:Georgia;\">8.2 Multiplication <code>(tf.multiply)</code> :</h3><br>"
   ]
  },
  {
   "cell_type": "code",
   "execution_count": 22,
   "id": "d57b1eb2",
   "metadata": {},
   "outputs": [
    {
     "data": {
      "text/plain": [
       "<tf.Tensor: shape=(2, 2), dtype=int32, numpy=\n",
       "array([[100, 150],\n",
       "       [140, 100]])>"
      ]
     },
     "execution_count": 22,
     "metadata": {},
     "output_type": "execute_result"
    }
   ],
   "source": [
    "tenseur * 10"
   ]
  },
  {
   "cell_type": "code",
   "execution_count": 24,
   "id": "532c9868",
   "metadata": {},
   "outputs": [
    {
     "data": {
      "text/plain": [
       "<tf.Tensor: shape=(2, 2), dtype=int32, numpy=\n",
       "array([[100, 150],\n",
       "       [140, 100]])>"
      ]
     },
     "execution_count": 24,
     "metadata": {},
     "output_type": "execute_result"
    }
   ],
   "source": [
    "tf.multiply(tenseur,10)"
   ]
  },
  {
   "cell_type": "code",
   "execution_count": 25,
   "id": "59c8df51",
   "metadata": {},
   "outputs": [
    {
     "data": {
      "text/plain": [
       "<tf.Tensor: shape=(2, 2), dtype=int32, numpy=\n",
       "array([[10, 15],\n",
       "       [14, 10]])>"
      ]
     },
     "execution_count": 25,
     "metadata": {},
     "output_type": "execute_result"
    }
   ],
   "source": [
    "tenseur"
   ]
  },
  {
   "cell_type": "markdown",
   "id": "8fcbe235",
   "metadata": {},
   "source": [
    "<p style=\"font-family:Georgia;font-size:1.5rem; text-align:justify\">L’une des opérations les plus courantes en machine learning est la multiplication des matrices.\n",
    "TensorFlow met en œuvre cette fonctionnalité de multiplication de matrices avec la méthode <code>tf.matmul().</code> <br><br>Pour pouvoir effectuer des multiplications entre les matrices il faut qu'elles respectent la forme suivante : <code>(a,b) @ (b,a)</code><br>La matrice <code>(a,b)</code></p>\n",
    "\n",
    "<ul style=\"font-family:Georgia;font-size:1.5rem; text-align:justify\">\n",
    "    <li><code>a</code> correspond au nombre de lignes</li>\n",
    "    <li><code>b</code> correspond au nombre de colonnes</li>   \n",
    "</ul>\n",
    "<p style=\"font-family:Georgia;font-size:1.5rem; text-align:justify\">La matrice resultante est de cette forme : <code>(a,a)</code></p>\n",
    "\n",
    "<p style=\"font-family:Georgia;font-size:1.5rem; text-align:justify\">Exemples : </p>\n",
    "\n",
    "<ul>\n",
    "    <li><code>(5,4) @ (4,5)</code> = <code>(5,5)</code></li>\n",
    "    <li><code>(3,2) @ (2,3)</code> = <code>(3,3)</code></li>\n",
    "</ul>"
   ]
  },
  {
   "cell_type": "code",
   "execution_count": 26,
   "id": "51f5cb96",
   "metadata": {},
   "outputs": [
    {
     "data": {
      "text/plain": [
       "<tf.Tensor: shape=(2, 2), dtype=int32, numpy=\n",
       "array([[10, 15],\n",
       "       [14, 10]])>"
      ]
     },
     "execution_count": 26,
     "metadata": {},
     "output_type": "execute_result"
    }
   ],
   "source": [
    "tenseur"
   ]
  },
  {
   "cell_type": "code",
   "execution_count": 34,
   "id": "a3825f34",
   "metadata": {},
   "outputs": [
    {
     "name": "stdout",
     "output_type": "stream",
     "text": [
      "(2, 2)\n"
     ]
    },
    {
     "data": {
      "text/plain": [
       "<tf.Tensor: shape=(2, 2), dtype=int32, numpy=\n",
       "array([[310, 300],\n",
       "       [280, 310]])>"
      ]
     },
     "execution_count": 34,
     "metadata": {},
     "output_type": "execute_result"
    }
   ],
   "source": [
    "print(tenseur.shape)\n",
    "tf.matmul(tenseur,tenseur)"
   ]
  },
  {
   "cell_type": "code",
   "execution_count": 54,
   "id": "9649fe13",
   "metadata": {},
   "outputs": [],
   "source": [
    "matrice1 = np.arange(1,13)\n",
    "matrice2 = np.arange(10,22)"
   ]
  },
  {
   "cell_type": "code",
   "execution_count": 69,
   "id": "2604f9e6",
   "metadata": {},
   "outputs": [
    {
     "name": "stdout",
     "output_type": "stream",
     "text": [
      "Matrice 1 :\n",
      "[[ 1  2  3  4]\n",
      " [ 5  6  7  8]\n",
      " [ 9 10 11 12]]\n",
      "\n",
      "shape : (3, 4)\n",
      "______________\n",
      "\n",
      "Matrice 2 :\n",
      "[[10 11 12]\n",
      " [13 14 15]\n",
      " [16 17 18]\n",
      " [19 20 21]]\n",
      "\n",
      "shape: (4, 3)\n"
     ]
    }
   ],
   "source": [
    "matrice1 = matrice1.reshape(3,4)\n",
    "matrice2 = matrice2.reshape(4,3)\n",
    "\n",
    "print(f\"\"\"Matrice 1 :\n",
    "{matrice1}\n",
    "\n",
    "shape : {matrice1.shape}\"\"\")\n",
    "print(\"______________\\n\")\n",
    "print(f\"\"\"Matrice 2 :\n",
    "{matrice2}\n",
    "\n",
    "shape: {matrice2.shape}\"\"\")"
   ]
  },
  {
   "cell_type": "code",
   "execution_count": 73,
   "id": "b8f4a3e1",
   "metadata": {},
   "outputs": [
    {
     "name": "stdout",
     "output_type": "stream",
     "text": [
      "Matrice 3 :\n",
      " \n",
      "[[160 170 180]\n",
      " [392 418 444]\n",
      " [624 666 708]]\n",
      "\n",
      "shape = (3, 3)\n"
     ]
    }
   ],
   "source": [
    "# On multipliant ces deux matrices ensemble on s'attend a cette forme : (3,3)\n",
    "\n",
    "matrice3 = tf.matmul(matrice1,matrice2)\n",
    "print(f\"\"\"Matrice 3 :\\n \n",
    "{matrice3}\\n\"\"\")\n",
    "print(f\"shape = {matrice3.shape}\")"
   ]
  },
  {
   "cell_type": "code",
   "execution_count": 78,
   "id": "3244d6d1",
   "metadata": {},
   "outputs": [
    {
     "name": "stdout",
     "output_type": "stream",
     "text": [
      "Shape Matrice 1 : \n",
      "(3, 4)\n",
      "\n",
      "Shape Matrice 2 : \n",
      "(4, 3)\n",
      "\n"
     ]
    }
   ],
   "source": [
    "print(f\"\"\"Shape Matrice 1 : \n",
    "{matrice1.shape}\n",
    "\n",
    "Shape Matrice 2 : \n",
    "{matrice2.shape}\n",
    "\"\"\")"
   ]
  },
  {
   "cell_type": "code",
   "execution_count": 76,
   "id": "b66f37cc",
   "metadata": {},
   "outputs": [
    {
     "name": "stdout",
     "output_type": "stream",
     "text": [
      "Matrice 3 :\n",
      " \n",
      "[[173 206 239 272]\n",
      " [218 260 302 344]\n",
      " [263 314 365 416]\n",
      " [308 368 428 488]]\n",
      "\n",
      "shape = (4, 4)\n"
     ]
    }
   ],
   "source": [
    "# Mutlipliant la matrice 2 par la matrice 1\n",
    "\n",
    "matrice3 = tf.matmul(matrice2,matrice1)\n",
    "print(f\"\"\"Matrice 3 :\\n \n",
    "{matrice3}\\n\"\"\")\n",
    "print(f\"shape = {matrice3.shape}\")"
   ]
  },
  {
   "cell_type": "markdown",
   "id": "c3a713ed",
   "metadata": {},
   "source": [
    "<h3 style=\"font-family:Georgia;\">8.3 Opérateur Python <code>@</code> :</h3><br>"
   ]
  },
  {
   "cell_type": "code",
   "execution_count": 79,
   "id": "d8b546f8",
   "metadata": {},
   "outputs": [
    {
     "data": {
      "text/plain": [
       "array([[160, 170, 180],\n",
       "       [392, 418, 444],\n",
       "       [624, 666, 708]])"
      ]
     },
     "execution_count": 79,
     "metadata": {},
     "output_type": "execute_result"
    }
   ],
   "source": [
    "matrice1 @ matrice2"
   ]
  },
  {
   "cell_type": "code",
   "execution_count": 81,
   "id": "cdeec504",
   "metadata": {},
   "outputs": [
    {
     "data": {
      "text/plain": [
       "array([[173, 206, 239, 272],\n",
       "       [218, 260, 302, 344],\n",
       "       [263, 314, 365, 416],\n",
       "       [308, 368, 428, 488]])"
      ]
     },
     "execution_count": 81,
     "metadata": {},
     "output_type": "execute_result"
    }
   ],
   "source": [
    "matrice2 @ matrice1"
   ]
  },
  {
   "cell_type": "code",
   "execution_count": 116,
   "id": "a1660cb3",
   "metadata": {},
   "outputs": [],
   "source": [
    "X = tf.constant([[1, 2],\n",
    "                 [3, 4],\n",
    "                 [5, 6]])\n",
    "\n",
    "# Create another (3, 2) tensor\n",
    "Y = tf.constant([[7, 8],\n",
    "                 [9, 10],\n",
    "                 [11, 12]])"
   ]
  },
  {
   "cell_type": "code",
   "execution_count": 117,
   "id": "3073b448",
   "metadata": {},
   "outputs": [
    {
     "ename": "InvalidArgumentError",
     "evalue": "{{function_node __wrapped__MatMul_device_/job:localhost/replica:0/task:0/device:CPU:0}} Matrix size-incompatible: In[0]: [3,2], In[1]: [3,2] [Op:MatMul]",
     "output_type": "error",
     "traceback": [
      "\u001b[1;31m---------------------------------------------------------------------------\u001b[0m",
      "\u001b[1;31mInvalidArgumentError\u001b[0m                      Traceback (most recent call last)",
      "Cell \u001b[1;32mIn[117], line 1\u001b[0m\n\u001b[1;32m----> 1\u001b[0m \u001b[43mX\u001b[49m\u001b[43m \u001b[49m\u001b[38;5;241;43m@\u001b[39;49m\u001b[43m \u001b[49m\u001b[43mY\u001b[49m\n",
      "File \u001b[1;32m~\\anaconda3\\envs\\tf\\lib\\site-packages\\tensorflow\\python\\util\\traceback_utils.py:153\u001b[0m, in \u001b[0;36mfilter_traceback.<locals>.error_handler\u001b[1;34m(*args, **kwargs)\u001b[0m\n\u001b[0;32m    151\u001b[0m \u001b[38;5;28;01mexcept\u001b[39;00m \u001b[38;5;167;01mException\u001b[39;00m \u001b[38;5;28;01mas\u001b[39;00m e:\n\u001b[0;32m    152\u001b[0m   filtered_tb \u001b[38;5;241m=\u001b[39m _process_traceback_frames(e\u001b[38;5;241m.\u001b[39m__traceback__)\n\u001b[1;32m--> 153\u001b[0m   \u001b[38;5;28;01mraise\u001b[39;00m e\u001b[38;5;241m.\u001b[39mwith_traceback(filtered_tb) \u001b[38;5;28;01mfrom\u001b[39;00m \u001b[38;5;28;01mNone\u001b[39;00m\n\u001b[0;32m    154\u001b[0m \u001b[38;5;28;01mfinally\u001b[39;00m:\n\u001b[0;32m    155\u001b[0m   \u001b[38;5;28;01mdel\u001b[39;00m filtered_tb\n",
      "File \u001b[1;32m~\\anaconda3\\envs\\tf\\lib\\site-packages\\tensorflow\\python\\framework\\ops.py:7209\u001b[0m, in \u001b[0;36mraise_from_not_ok_status\u001b[1;34m(e, name)\u001b[0m\n\u001b[0;32m   7207\u001b[0m \u001b[38;5;28;01mdef\u001b[39;00m \u001b[38;5;21mraise_from_not_ok_status\u001b[39m(e, name):\n\u001b[0;32m   7208\u001b[0m   e\u001b[38;5;241m.\u001b[39mmessage \u001b[38;5;241m+\u001b[39m\u001b[38;5;241m=\u001b[39m (\u001b[38;5;124m\"\u001b[39m\u001b[38;5;124m name: \u001b[39m\u001b[38;5;124m\"\u001b[39m \u001b[38;5;241m+\u001b[39m name \u001b[38;5;28;01mif\u001b[39;00m name \u001b[38;5;129;01mis\u001b[39;00m \u001b[38;5;129;01mnot\u001b[39;00m \u001b[38;5;28;01mNone\u001b[39;00m \u001b[38;5;28;01melse\u001b[39;00m \u001b[38;5;124m\"\u001b[39m\u001b[38;5;124m\"\u001b[39m)\n\u001b[1;32m-> 7209\u001b[0m   \u001b[38;5;28;01mraise\u001b[39;00m core\u001b[38;5;241m.\u001b[39m_status_to_exception(e) \u001b[38;5;28;01mfrom\u001b[39;00m \u001b[38;5;28;01mNone\u001b[39;00m\n",
      "\u001b[1;31mInvalidArgumentError\u001b[0m: {{function_node __wrapped__MatMul_device_/job:localhost/replica:0/task:0/device:CPU:0}} Matrix size-incompatible: In[0]: [3,2], In[1]: [3,2] [Op:MatMul]"
     ]
    }
   ],
   "source": [
    "X @ Y # les deux matrices ont la meme forme!!"
   ]
  },
  {
   "cell_type": "markdown",
   "id": "bc444146",
   "metadata": {},
   "source": [
    "<p style=\"font-family:Georgia;font-size:1.5rem; text-align:justify\">On souhaite multiplier nos deux matrices, cependant, elles ne présentent pas la même forme. Par conséquent, nous devons modifier la forme de ces deux matrices. Il existe deux méthodes pour le faire.</p>\n",
    "<ul style=\"font-family:Georgia;font-size:1.5rem; text-align:justify\">\n",
    "    <li><code>tf.reshape()</code> : nous permet de redimensionner un tenseur dans une forme définie.</li>\n",
    "    <li><code>tf.transpose()</code>: permute les dimensions d’un tenseur donné.</li>\n",
    "</ul>"
   ]
  },
  {
   "cell_type": "code",
   "execution_count": 118,
   "id": "55aaa48f",
   "metadata": {},
   "outputs": [
    {
     "name": "stdout",
     "output_type": "stream",
     "text": [
      "Y : (3, 2)\n"
     ]
    }
   ],
   "source": [
    "# Shapes\n",
    "print(\"Y :\",Y.shape)"
   ]
  },
  {
   "cell_type": "code",
   "execution_count": 119,
   "id": "aea773b3",
   "metadata": {},
   "outputs": [
    {
     "data": {
      "text/plain": [
       "<tf.Tensor: shape=(3, 2), dtype=int32, numpy=\n",
       "array([[ 7,  8],\n",
       "       [ 9, 10],\n",
       "       [11, 12]])>"
      ]
     },
     "execution_count": 119,
     "metadata": {},
     "output_type": "execute_result"
    }
   ],
   "source": [
    "Y"
   ]
  },
  {
   "cell_type": "code",
   "execution_count": 120,
   "id": "040c5e63",
   "metadata": {},
   "outputs": [
    {
     "data": {
      "text/plain": [
       "<tf.Tensor: shape=(2, 3), dtype=int32, numpy=\n",
       "array([[ 7,  8,  9],\n",
       "       [10, 11, 12]])>"
      ]
     },
     "execution_count": 120,
     "metadata": {},
     "output_type": "execute_result"
    }
   ],
   "source": [
    "Y = tf.reshape(Y,(2,3))\n",
    "Y"
   ]
  },
  {
   "cell_type": "code",
   "execution_count": 121,
   "id": "758a2e7a",
   "metadata": {},
   "outputs": [
    {
     "data": {
      "text/plain": [
       "<tf.Tensor: shape=(3, 2), dtype=int32, numpy=\n",
       "array([[1, 2],\n",
       "       [3, 4],\n",
       "       [5, 6]])>"
      ]
     },
     "execution_count": 121,
     "metadata": {},
     "output_type": "execute_result"
    }
   ],
   "source": [
    "X"
   ]
  },
  {
   "cell_type": "code",
   "execution_count": 122,
   "id": "1643ecb0",
   "metadata": {},
   "outputs": [
    {
     "name": "stdout",
     "output_type": "stream",
     "text": [
      "X : (3, 2)\n"
     ]
    }
   ],
   "source": [
    "print(\"X :\",X.shape)"
   ]
  },
  {
   "cell_type": "code",
   "execution_count": 123,
   "id": "179838ec",
   "metadata": {},
   "outputs": [
    {
     "data": {
      "text/plain": [
       "<tf.Tensor: shape=(2, 2), dtype=int32, numpy=\n",
       "array([[ 76, 100],\n",
       "       [103, 136]])>"
      ]
     },
     "execution_count": 123,
     "metadata": {},
     "output_type": "execute_result"
    }
   ],
   "source": [
    "Y @ X"
   ]
  },
  {
   "cell_type": "code",
   "execution_count": 125,
   "id": "872efe0a",
   "metadata": {},
   "outputs": [
    {
     "data": {
      "text/plain": [
       "<tf.Tensor: shape=(2, 3), dtype=int32, numpy=\n",
       "array([[1, 3, 5],\n",
       "       [2, 4, 6]])>"
      ]
     },
     "execution_count": 125,
     "metadata": {},
     "output_type": "execute_result"
    }
   ],
   "source": [
    "tf.transpose(X)"
   ]
  },
  {
   "cell_type": "markdown",
   "id": "fc968fc1",
   "metadata": {},
   "source": [
    "<h3 style=\"font-family:Georgia;\">Dot product : <code>tf.tensordot()</code></h3>"
   ]
  },
  {
   "cell_type": "code",
   "execution_count": 126,
   "id": "5ae5c48b",
   "metadata": {},
   "outputs": [
    {
     "data": {
      "text/plain": [
       "<tf.Tensor: shape=(2, 2), dtype=int32, numpy=\n",
       "array([[ 76, 100],\n",
       "       [103, 136]])>"
      ]
     },
     "execution_count": 126,
     "metadata": {},
     "output_type": "execute_result"
    }
   ],
   "source": [
    "tf.tensordot(Y,X,axes = 1)"
   ]
  },
  {
   "cell_type": "code",
   "execution_count": 127,
   "id": "361748cd",
   "metadata": {},
   "outputs": [
    {
     "data": {
      "text/plain": [
       "<tf.Tensor: shape=(3, 2), dtype=int32, numpy=\n",
       "array([[1, 2],\n",
       "       [3, 4],\n",
       "       [5, 6]])>"
      ]
     },
     "execution_count": 127,
     "metadata": {},
     "output_type": "execute_result"
    }
   ],
   "source": [
    "X"
   ]
  },
  {
   "cell_type": "code",
   "execution_count": 135,
   "id": "c4005483",
   "metadata": {},
   "outputs": [
    {
     "name": "stdout",
     "output_type": "stream",
     "text": [
      "Reshaped : \n",
      "[[1 2 3]\n",
      " [4 5 6]]\n",
      "\n",
      "Transposed : \n",
      "[[1 3 5]\n",
      " [2 4 6]]\n"
     ]
    }
   ],
   "source": [
    "print(f\"\"\"Reshaped : \n",
    "{tf.reshape(X,(2,3))}\n",
    "\n",
    "Transposed : \n",
    "{tf.transpose(X)}\"\"\")"
   ]
  },
  {
   "cell_type": "code",
   "execution_count": 137,
   "id": "42ba263f",
   "metadata": {},
   "outputs": [
    {
     "data": {
      "text/plain": [
       "<tf.Tensor: shape=(3, 3), dtype=int32, numpy=\n",
       "array([[ 5, 11, 17],\n",
       "       [11, 25, 39],\n",
       "       [17, 39, 61]])>"
      ]
     },
     "execution_count": 137,
     "metadata": {},
     "output_type": "execute_result"
    }
   ],
   "source": [
    "tf.tensordot(X,tf.transpose(X),axes = 1)"
   ]
  },
  {
   "cell_type": "code",
   "execution_count": 139,
   "id": "2ae53a65",
   "metadata": {},
   "outputs": [
    {
     "data": {
      "text/plain": [
       "<tf.Tensor: shape=(3, 3), dtype=int32, numpy=\n",
       "array([[ 9, 12, 15],\n",
       "       [19, 26, 33],\n",
       "       [29, 40, 51]])>"
      ]
     },
     "execution_count": 139,
     "metadata": {},
     "output_type": "execute_result"
    }
   ],
   "source": [
    "tf.tensordot(X,tf.reshape(X,(2,3)),axes = 1)"
   ]
  },
  {
   "cell_type": "markdown",
   "id": "3eb7cfd9",
   "metadata": {},
   "source": [
    "<h2 style=\"font-family:Georgia;\">9. Changer le type de donnees des tenseurs <code>tf.cast()</code></h2>"
   ]
  },
  {
   "cell_type": "markdown",
   "id": "1907d2d2",
   "metadata": {},
   "source": [
    "<p style=\"font-family:Georgia;font-size:1.5rem; text-align:justify\">Effectuer des calculs avec une précision moindre est avantageux sur les appareils ayant une capacité de calcul limitée, tels que les appareils mobiles. En effet, moins il y a de bits utilisés, moins l’espace requis pour les calculs est important.</p>"
   ]
  },
  {
   "cell_type": "code",
   "execution_count": 143,
   "id": "0c97ed08",
   "metadata": {},
   "outputs": [],
   "source": [
    "A = np.arange(1,4,0.5)\n",
    "B = np.arange(2,5,0.5)"
   ]
  },
  {
   "cell_type": "code",
   "execution_count": 144,
   "id": "c5691308",
   "metadata": {},
   "outputs": [
    {
     "data": {
      "text/plain": [
       "<tf.Tensor: shape=(6,), dtype=float64, numpy=array([2. , 2.5, 3. , 3.5, 4. , 4.5])>"
      ]
     },
     "execution_count": 144,
     "metadata": {},
     "output_type": "execute_result"
    }
   ],
   "source": [
    "tf.constant(A)\n",
    "tf.constant(B)"
   ]
  },
  {
   "cell_type": "code",
   "execution_count": 149,
   "id": "512cdee0",
   "metadata": {},
   "outputs": [
    {
     "data": {
      "text/plain": [
       "<tf.Tensor: shape=(6,), dtype=float16, numpy=array([2. , 2.5, 3. , 3.5, 4. , 4.5], dtype=float16)>"
      ]
     },
     "execution_count": 149,
     "metadata": {},
     "output_type": "execute_result"
    }
   ],
   "source": [
    "A = tf.cast(A,dtype = tf.float16)\n",
    "A"
   ]
  },
  {
   "cell_type": "code",
   "execution_count": 152,
   "id": "0802343e",
   "metadata": {},
   "outputs": [
    {
     "data": {
      "text/plain": [
       "<tf.Tensor: shape=(6,), dtype=float32, numpy=array([2. , 2.5, 3. , 3.5, 4. , 4.5], dtype=float32)>"
      ]
     },
     "execution_count": 152,
     "metadata": {},
     "output_type": "execute_result"
    }
   ],
   "source": [
    "B = tf.cast(B,dtype = tf.float32)\n",
    "B"
   ]
  },
  {
   "cell_type": "markdown",
   "id": "b1c100b4",
   "metadata": {},
   "source": [
    "<h2 style=\"font-family:Georgia;\">10. Valeur absolue <code>tf.abs()</code></h2>"
   ]
  },
  {
   "cell_type": "code",
   "execution_count": 153,
   "id": "d2985648",
   "metadata": {},
   "outputs": [
    {
     "data": {
      "text/plain": [
       "array([-30, -28, -26, -24, -22, -20, -18, -16, -14, -12])"
      ]
     },
     "execution_count": 153,
     "metadata": {},
     "output_type": "execute_result"
    }
   ],
   "source": [
    "matrice_abs = np.arange(-30,-10,2)\n",
    "matrice_abs"
   ]
  },
  {
   "cell_type": "code",
   "execution_count": 154,
   "id": "b205c285",
   "metadata": {},
   "outputs": [],
   "source": [
    "matrice_abs = tf.constant(matrice_abs)"
   ]
  },
  {
   "cell_type": "code",
   "execution_count": 157,
   "id": "99bcc7d6",
   "metadata": {},
   "outputs": [],
   "source": [
    "matrice_abs = tf.abs(matrice_abs)"
   ]
  },
  {
   "cell_type": "markdown",
   "id": "cc11db1c",
   "metadata": {},
   "source": [
    "<h2 style=\"font-family:Georgia;\">11. <code>min</code> <code>max</code> <code>mean</code> <code>sum</code> </h2>"
   ]
  },
  {
   "cell_type": "code",
   "execution_count": 173,
   "id": "1a409448",
   "metadata": {},
   "outputs": [
    {
     "data": {
      "text/plain": [
       "array([11, 20, 31, 77, 35, 58, 15, 89, 43, 33, 15, 54,  1, 36,  0, 76, 32,\n",
       "       80, 99, 27, 94, 98, 55, 16, 56, 23, 76, 89, 19, 42, 29, 15, 64,  6,\n",
       "       47, 35, 99, 39, 77,  9, 49, 87, 41, 23, 70, 60, 32, 75, 95, 24, 64,\n",
       "       47, 80, 41, 56, 30, 90, 81, 92, 49, 67, 65, 52, 99, 42, 40, 15, 94,\n",
       "       10, 26, 86, 69, 94, 23, 17, 39, 79, 92, 86, 31, 80,  6, 50, 48, 27,\n",
       "       72, 41, 21, 84, 17, 96, 73, 67, 17,  0, 51, 25, 84, 54, 92])"
      ]
     },
     "execution_count": 173,
     "metadata": {},
     "output_type": "execute_result"
    }
   ],
   "source": [
    "matrice = np.random.randint(0, 100, 100)\n",
    "matrice"
   ]
  },
  {
   "cell_type": "code",
   "execution_count": 174,
   "id": "64adbf3b",
   "metadata": {},
   "outputs": [
    {
     "data": {
      "text/plain": [
       "<tf.Tensor: shape=(), dtype=int32, numpy=0>"
      ]
     },
     "execution_count": 174,
     "metadata": {},
     "output_type": "execute_result"
    }
   ],
   "source": [
    "#Chercher la valeur minimale dans un tenseur\n",
    "\n",
    "tf.reduce_min(matrice)"
   ]
  },
  {
   "cell_type": "code",
   "execution_count": 175,
   "id": "71c9c036",
   "metadata": {},
   "outputs": [
    {
     "data": {
      "text/plain": [
       "<tf.Tensor: shape=(), dtype=int32, numpy=99>"
      ]
     },
     "execution_count": 175,
     "metadata": {},
     "output_type": "execute_result"
    }
   ],
   "source": [
    "#Cherhcer la valeur maximale\n",
    "\n",
    "tf.reduce_max(matrice)"
   ]
  },
  {
   "cell_type": "code",
   "execution_count": 176,
   "id": "63dfc60b",
   "metadata": {},
   "outputs": [
    {
     "data": {
      "text/plain": [
       "<tf.Tensor: shape=(), dtype=int32, numpy=51>"
      ]
     },
     "execution_count": 176,
     "metadata": {},
     "output_type": "execute_result"
    }
   ],
   "source": [
    "#Calculer la moyenne d'un tenseur\n",
    "\n",
    "tf.reduce_mean(matrice)"
   ]
  },
  {
   "cell_type": "code",
   "execution_count": 177,
   "id": "ba8a6715",
   "metadata": {},
   "outputs": [
    {
     "data": {
      "text/plain": [
       "<tf.Tensor: shape=(), dtype=int32, numpy=5137>"
      ]
     },
     "execution_count": 177,
     "metadata": {},
     "output_type": "execute_result"
    }
   ],
   "source": [
    "#Calculer la somme d'un tenseur\n",
    "\n",
    "tf.reduce_sum(matrice)"
   ]
  },
  {
   "cell_type": "markdown",
   "id": "ec52eb2c",
   "metadata": {},
   "source": [
    "<h2 style=\"font-family:Georgia;\">12. Trouver la position maximale et minimale d'un element dans un tenseur</h2>"
   ]
  },
  {
   "cell_type": "code",
   "execution_count": 208,
   "id": "2fad63b4",
   "metadata": {},
   "outputs": [],
   "source": [
    "tenseur = np.random.random(100)"
   ]
  },
  {
   "cell_type": "code",
   "execution_count": 185,
   "id": "e9a9cd7c",
   "metadata": {},
   "outputs": [],
   "source": [
    "tenseur = tf.constant(tenseur)"
   ]
  },
  {
   "cell_type": "code",
   "execution_count": 186,
   "id": "f3275431",
   "metadata": {},
   "outputs": [
    {
     "data": {
      "text/plain": [
       "<tf.Tensor: shape=(100,), dtype=float64, numpy=\n",
       "array([0.75978005, 0.15380998, 0.31184891, 0.66930818, 0.64559951,\n",
       "       0.48826623, 0.925189  , 0.07514326, 0.35518766, 0.67541107,\n",
       "       0.97439335, 0.45302918, 0.24645476, 0.39249166, 0.7838261 ,\n",
       "       0.4596718 , 0.36025944, 0.42511656, 0.51739056, 0.54871094,\n",
       "       0.74365239, 0.47754388, 0.76273869, 0.93326497, 0.71378823,\n",
       "       0.97885485, 0.42489956, 0.07503836, 0.51499796, 0.22431135,\n",
       "       0.1523272 , 0.80298135, 0.14477478, 0.01397915, 0.9407614 ,\n",
       "       0.23474567, 0.2034405 , 0.18300257, 0.30837682, 0.92822711,\n",
       "       0.32688537, 0.07936209, 0.5895107 , 0.43963539, 0.81700819,\n",
       "       0.58977474, 0.62005746, 0.13432753, 0.86216224, 0.01703903,\n",
       "       0.62455273, 0.37279575, 0.70198064, 0.53903341, 0.68067401,\n",
       "       0.049382  , 0.06331754, 0.55683896, 0.50291726, 0.0971765 ,\n",
       "       0.78055849, 0.18730769, 0.19411519, 0.16581019, 0.72244948,\n",
       "       0.22983267, 0.85779552, 0.31934853, 0.95534327, 0.67710777,\n",
       "       0.92871857, 0.03926539, 0.5165162 , 0.61422274, 0.35242482,\n",
       "       0.78447517, 0.98215314, 0.09612281, 0.96899811, 0.833538  ,\n",
       "       0.79481612, 0.83863098, 0.91457575, 0.86942912, 0.21034988,\n",
       "       0.95347178, 0.70955018, 0.00869079, 0.9716337 , 0.74429563,\n",
       "       0.86485767, 0.40447084, 0.51189702, 0.32961207, 0.79299202,\n",
       "       0.18467187, 0.61624053, 0.61893467, 0.55634062, 0.748824  ])>"
      ]
     },
     "execution_count": 186,
     "metadata": {},
     "output_type": "execute_result"
    }
   ],
   "source": [
    "tenseur"
   ]
  },
  {
   "cell_type": "code",
   "execution_count": 187,
   "id": "5e407ef5",
   "metadata": {},
   "outputs": [
    {
     "data": {
      "text/plain": [
       "<tf.Tensor: shape=(), dtype=int64, numpy=76>"
      ]
     },
     "execution_count": 187,
     "metadata": {},
     "output_type": "execute_result"
    }
   ],
   "source": [
    "# Trouver la position du plus grand element\n",
    "\n",
    "tf.argmax(tenseur)"
   ]
  },
  {
   "cell_type": "code",
   "execution_count": 188,
   "id": "0a6cf925",
   "metadata": {},
   "outputs": [
    {
     "data": {
      "text/plain": [
       "<tf.Tensor: shape=(), dtype=int64, numpy=87>"
      ]
     },
     "execution_count": 188,
     "metadata": {},
     "output_type": "execute_result"
    }
   ],
   "source": [
    "# Trouver la position de l'element le plus petit\n",
    "\n",
    "tf.argmin(tenseur)"
   ]
  },
  {
   "cell_type": "code",
   "execution_count": 196,
   "id": "5eb9d6e5",
   "metadata": {},
   "outputs": [
    {
     "name": "stdout",
     "output_type": "stream",
     "text": [
      "L'element le plus grand = 0.982153136030096, a la position 76\n",
      "\n",
      "L'element le plus petit = 0.008690788228666091, a la position 87\n",
      "\n",
      "Autre facons pour trouver la valeur max et min : \n",
      "\n",
      "Valeur maximale : 0.982153136030096\n",
      "\n",
      "Valeur minimale : 0.008690788228666091\n"
     ]
    }
   ],
   "source": [
    "print(f\"\"\"L'element le plus grand = {tf.reduce_max(tenseur)}, a la position {tf.argmax(tenseur)}\n",
    "\n",
    "L'element le plus petit = {tf.reduce_min(tenseur)}, a la position {tf.argmin(tenseur)}\n",
    "\n",
    "Autre facons pour trouver la valeur max et min : \n",
    "\n",
    "Valeur maximale : {tenseur[tf.argmax(tenseur)]}\n",
    "\n",
    "Valeur minimale : {tenseur[tf.argmin(tenseur)]}\"\"\")"
   ]
  },
  {
   "cell_type": "markdown",
   "id": "a7c1edaa",
   "metadata": {},
   "source": [
    "<h2 style=\"font-family:Georgia;\">13. Compression d'un tenseur (Squeezing) : <code>tf.squeeze()</code></h2>"
   ]
  },
  {
   "cell_type": "markdown",
   "id": "20bca8ac",
   "metadata": {},
   "source": [
    "<p style=\"font-family:Georgia;font-size:1.5rem; text-align:justify\">La fonction <code>tf.squeeze()</code> est utilisée pour supprimer les dimensions de taille 1 </p>"
   ]
  },
  {
   "cell_type": "code",
   "execution_count": 223,
   "id": "6a2d0194",
   "metadata": {},
   "outputs": [],
   "source": [
    "tenseur = np.random.randint(0,100,100)"
   ]
  },
  {
   "cell_type": "code",
   "execution_count": 224,
   "id": "020eb6df",
   "metadata": {},
   "outputs": [
    {
     "data": {
      "text/plain": [
       "array([89, 13, 65, 55, 36, 40, 90, 83, 43, 27, 46, 16, 53, 96,  9, 23, 66,\n",
       "       24, 34, 72, 24, 68, 43, 80, 99, 20, 49, 51, 26, 79, 48,  4, 81, 47,\n",
       "       95, 35, 96, 50, 13, 14,  6, 30, 38, 60,  2, 92, 11, 76, 38, 28, 66,\n",
       "       12, 88, 63, 39, 92, 44, 91, 43, 13, 82,  5,  6, 28, 66, 25, 56, 30,\n",
       "       47, 21,  0, 79, 65, 86, 90, 95, 41, 42, 13, 20, 96, 87, 77, 76, 61,\n",
       "       15, 45, 44, 29, 20, 41, 37, 48,  4, 63,  6, 28, 53, 37, 90])"
      ]
     },
     "execution_count": 224,
     "metadata": {},
     "output_type": "execute_result"
    }
   ],
   "source": [
    "tenseur"
   ]
  },
  {
   "cell_type": "code",
   "execution_count": 235,
   "id": "25c5e1ff",
   "metadata": {},
   "outputs": [
    {
     "data": {
      "text/plain": [
       "<tf.Tensor: shape=(100,), dtype=int32, numpy=\n",
       "array([ 0,  2,  4,  4,  5,  6,  6,  6,  9, 11, 12, 13, 13, 13, 13, 14, 15,\n",
       "       16, 20, 20, 20, 21, 23, 24, 24, 25, 26, 27, 28, 28, 28, 29, 30, 30,\n",
       "       34, 35, 36, 37, 37, 38, 38, 39, 40, 41, 41, 42, 43, 43, 43, 44, 44,\n",
       "       45, 46, 47, 47, 48, 48, 49, 50, 51, 53, 53, 55, 56, 60, 61, 63, 63,\n",
       "       65, 65, 66, 66, 66, 68, 72, 76, 76, 77, 79, 79, 80, 81, 82, 83, 86,\n",
       "       87, 88, 89, 90, 90, 90, 91, 92, 92, 95, 95, 96, 96, 96, 99])>"
      ]
     },
     "execution_count": 235,
     "metadata": {},
     "output_type": "execute_result"
    }
   ],
   "source": [
    "tenseur = tf.sort(tenseur)\n",
    "tenseur"
   ]
  },
  {
   "cell_type": "code",
   "execution_count": 236,
   "id": "d6bce2d6",
   "metadata": {},
   "outputs": [
    {
     "name": "stdout",
     "output_type": "stream",
     "text": [
      "(100,)\n"
     ]
    }
   ],
   "source": [
    "print(tenseur.shape)"
   ]
  },
  {
   "cell_type": "code",
   "execution_count": 237,
   "id": "b1e90647",
   "metadata": {},
   "outputs": [],
   "source": [
    "tenseur = tf.reshape(tenseur,(1,1,1,1,100))"
   ]
  },
  {
   "cell_type": "code",
   "execution_count": 238,
   "id": "2cd995e2",
   "metadata": {},
   "outputs": [
    {
     "name": "stdout",
     "output_type": "stream",
     "text": [
      "(1, 1, 1, 1, 100)\n"
     ]
    }
   ],
   "source": [
    "print(tenseur.shape)"
   ]
  },
  {
   "cell_type": "code",
   "execution_count": 239,
   "id": "d8e34494",
   "metadata": {},
   "outputs": [],
   "source": [
    "tenseur = tf.squeeze(tenseur)"
   ]
  },
  {
   "cell_type": "code",
   "execution_count": 240,
   "id": "72ba0b92",
   "metadata": {},
   "outputs": [
    {
     "name": "stdout",
     "output_type": "stream",
     "text": [
      "(100,)\n"
     ]
    }
   ],
   "source": [
    "print(tenseur.shape)"
   ]
  },
  {
   "cell_type": "code",
   "execution_count": 241,
   "id": "7f5649f0",
   "metadata": {},
   "outputs": [
    {
     "data": {
      "text/plain": [
       "<tf.Tensor: shape=(100,), dtype=int32, numpy=\n",
       "array([ 0,  2,  4,  4,  5,  6,  6,  6,  9, 11, 12, 13, 13, 13, 13, 14, 15,\n",
       "       16, 20, 20, 20, 21, 23, 24, 24, 25, 26, 27, 28, 28, 28, 29, 30, 30,\n",
       "       34, 35, 36, 37, 37, 38, 38, 39, 40, 41, 41, 42, 43, 43, 43, 44, 44,\n",
       "       45, 46, 47, 47, 48, 48, 49, 50, 51, 53, 53, 55, 56, 60, 61, 63, 63,\n",
       "       65, 65, 66, 66, 66, 68, 72, 76, 76, 77, 79, 79, 80, 81, 82, 83, 86,\n",
       "       87, 88, 89, 90, 90, 90, 91, 92, 92, 95, 95, 96, 96, 96, 99])>"
      ]
     },
     "execution_count": 241,
     "metadata": {},
     "output_type": "execute_result"
    }
   ],
   "source": [
    "tenseur"
   ]
  },
  {
   "cell_type": "markdown",
   "id": "5f72e7d0",
   "metadata": {},
   "source": [
    "<h2 style=\"font-family:Georgia;\">14. One-hot encoding</h2>\n",
    "\n",
    "<p style=\"font-family:Georgia;font-size:1.5rem; text-align:justify\">Le “One Hot Encoding” est une méthode utilisée en apprentissage automatique pour quantifier les données catégorielles. En bref, cette méthode produit un vecteur dont la longueur est égale au nombre de catégories dans l’ensemble de données. Si un point de données appartient à la ième catégorie, alors les composants de ce vecteur sont attribués à la valeur 0 sauf pour le ième composant, qui se voit attribuer une valeur de 1 voici un exemple :</p>\n",
    "\n",
    "<img src=\"images/onehot.png\" alt=\"Tensor\" style=\"float: center; width : 60%\"><br><br>"
   ]
  },
  {
   "cell_type": "code",
   "execution_count": 5,
   "id": "ddcf1062",
   "metadata": {},
   "outputs": [],
   "source": [
    "# Creons une liste \n",
    "\n",
    "liste = [1,2,3,4,5,6,7]"
   ]
  },
  {
   "cell_type": "code",
   "execution_count": 6,
   "id": "2767e67d",
   "metadata": {},
   "outputs": [
    {
     "data": {
      "text/plain": [
       "<tf.Tensor: shape=(7, 7), dtype=float32, numpy=\n",
       "array([[0., 1., 0., 0., 0., 0., 0.],\n",
       "       [0., 0., 1., 0., 0., 0., 0.],\n",
       "       [0., 0., 0., 1., 0., 0., 0.],\n",
       "       [0., 0., 0., 0., 1., 0., 0.],\n",
       "       [0., 0., 0., 0., 0., 1., 0.],\n",
       "       [0., 0., 0., 0., 0., 0., 1.],\n",
       "       [0., 0., 0., 0., 0., 0., 0.]], dtype=float32)>"
      ]
     },
     "execution_count": 6,
     "metadata": {},
     "output_type": "execute_result"
    }
   ],
   "source": [
    "# One-hot encoing : \n",
    "\n",
    "tf.one_hot(liste, depth=7)"
   ]
  },
  {
   "cell_type": "code",
   "execution_count": 7,
   "id": "c27385d4",
   "metadata": {},
   "outputs": [
    {
     "data": {
      "text/plain": [
       "<tf.Tensor: shape=(7, 7), dtype=string, numpy=\n",
       "array([[b'Off', b'On', b'Off', b'Off', b'Off', b'Off', b'Off'],\n",
       "       [b'Off', b'Off', b'On', b'Off', b'Off', b'Off', b'Off'],\n",
       "       [b'Off', b'Off', b'Off', b'On', b'Off', b'Off', b'Off'],\n",
       "       [b'Off', b'Off', b'Off', b'Off', b'On', b'Off', b'Off'],\n",
       "       [b'Off', b'Off', b'Off', b'Off', b'Off', b'On', b'Off'],\n",
       "       [b'Off', b'Off', b'Off', b'Off', b'Off', b'Off', b'On'],\n",
       "       [b'Off', b'Off', b'Off', b'Off', b'Off', b'Off', b'Off']],\n",
       "      dtype=object)>"
      ]
     },
     "execution_count": 7,
     "metadata": {},
     "output_type": "execute_result"
    }
   ],
   "source": [
    "tf.one_hot(liste, depth=7,on_value=\"On\", off_value=\"Off\")"
   ]
  }
 ],
 "metadata": {
  "kernelspec": {
   "display_name": "Python 3 (ipykernel)",
   "language": "python",
   "name": "python3"
  },
  "language_info": {
   "codemirror_mode": {
    "name": "ipython",
    "version": 3
   },
   "file_extension": ".py",
   "mimetype": "text/x-python",
   "name": "python",
   "nbconvert_exporter": "python",
   "pygments_lexer": "ipython3",
   "version": "3.10.11"
  }
 },
 "nbformat": 4,
 "nbformat_minor": 5
}
